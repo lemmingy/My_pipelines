{
  "nbformat": 4,
  "nbformat_minor": 0,
  "metadata": {
    "colab": {
      "name": "Sensor_data.ipynb",
      "provenance": [],
      "authorship_tag": "ABX9TyMjqLATAXXGOTHrM/Q8EmtR",
      "include_colab_link": true
    },
    "kernelspec": {
      "name": "python3",
      "display_name": "Python 3"
    },
    "accelerator": "GPU"
  },
  "cells": [
    {
      "cell_type": "markdown",
      "metadata": {
        "id": "view-in-github",
        "colab_type": "text"
      },
      "source": [
        "<a href=\"https://colab.research.google.com/github/lemmingy/My_pipelines/blob/main/Sensor_data.ipynb\" target=\"_parent\"><img src=\"https://colab.research.google.com/assets/colab-badge.svg\" alt=\"Open In Colab\"/></a>"
      ]
    },
    {
      "cell_type": "markdown",
      "metadata": {
        "id": "yoeU6QNROL-R"
      },
      "source": [
        "センサーデータの変換"
      ]
    },
    {
      "cell_type": "code",
      "metadata": {
        "id": "LOlDJ_G4OLhl"
      },
      "source": [
        "#Tsfreshによる"
      ],
      "execution_count": null,
      "outputs": []
    },
    {
      "cell_type": "code",
      "metadata": {
        "id": "Y2U0ypA-LCMJ"
      },
      "source": [
        "#センサーデータの変換"
      ],
      "execution_count": null,
      "outputs": []
    }
  ]
}